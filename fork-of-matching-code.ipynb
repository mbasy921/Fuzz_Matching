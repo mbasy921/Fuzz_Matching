{
 "cells": [
  {
   "cell_type": "code",
   "execution_count": 1,
   "id": "6a2db6c1",
   "metadata": {
    "_cell_guid": "b1076dfc-b9ad-4769-8c92-a6c4dae69d19",
    "_uuid": "8f2839f25d086af736a60e9eeb907d3b93b6e0e5",
    "execution": {
     "iopub.execute_input": "2022-10-18T18:50:04.714522Z",
     "iopub.status.busy": "2022-10-18T18:50:04.714013Z",
     "iopub.status.idle": "2022-10-18T18:50:04.733713Z",
     "shell.execute_reply": "2022-10-18T18:50:04.732456Z"
    },
    "papermill": {
     "duration": 0.028869,
     "end_time": "2022-10-18T18:50:04.736554",
     "exception": false,
     "start_time": "2022-10-18T18:50:04.707685",
     "status": "completed"
    },
    "tags": []
   },
   "outputs": [
    {
     "name": "stdout",
     "output_type": "stream",
     "text": [
      "/kaggle/input/matching/1.xlsx\n",
      "/kaggle/input/matching/2.xlsx\n"
     ]
    }
   ],
   "source": [
    "# This Python 3 environment comes with many helpful analytics libraries installed\n",
    "# It is defined by the kaggle/python Docker image: https://github.com/kaggle/docker-python\n",
    "# For example, here's several helpful packages to load\n",
    "\n",
    "import numpy as np # linear algebra\n",
    "import pandas as pd # data processing, CSV file I/O (e.g. pd.read_csv)\n",
    "\n",
    "# Input data files are available in the read-only \"../input/\" directory\n",
    "# For example, running this (by clicking run or pressing Shift+Enter) will list all files under the input directory\n",
    "\n",
    "import os\n",
    "for dirname, _, filenames in os.walk('/kaggle/input'):\n",
    "    for filename in filenames:\n",
    "        print(os.path.join(dirname, filename))\n",
    "\n",
    "# You can write up to 20GB to the current directory (/kaggle/working/) that gets preserved as output when you create a version using \"Save & Run All\" \n",
    "# You can also write temporary files to /kaggle/temp/, but they won't be saved outside of the current session"
   ]
  },
  {
   "cell_type": "code",
   "execution_count": 2,
   "id": "8f17f883",
   "metadata": {
    "execution": {
     "iopub.execute_input": "2022-10-18T18:50:04.746479Z",
     "iopub.status.busy": "2022-10-18T18:50:04.745451Z",
     "iopub.status.idle": "2022-10-18T18:50:05.899213Z",
     "shell.execute_reply": "2022-10-18T18:50:05.898125Z"
    },
    "papermill": {
     "duration": 1.161596,
     "end_time": "2022-10-18T18:50:05.901997",
     "exception": false,
     "start_time": "2022-10-18T18:50:04.740401",
     "status": "completed"
    },
    "tags": []
   },
   "outputs": [],
   "source": [
    "from sklearn import feature_extraction, metrics\n",
    "import io\n",
    "from tqdm import tqdm"
   ]
  },
  {
   "cell_type": "code",
   "execution_count": 3,
   "id": "796bdc8f",
   "metadata": {
    "execution": {
     "iopub.execute_input": "2022-10-18T18:50:05.910872Z",
     "iopub.status.busy": "2022-10-18T18:50:05.910458Z",
     "iopub.status.idle": "2022-10-18T18:50:05.925609Z",
     "shell.execute_reply": "2022-10-18T18:50:05.924349Z"
    },
    "papermill": {
     "duration": 0.022445,
     "end_time": "2022-10-18T18:50:05.928006",
     "exception": false,
     "start_time": "2022-10-18T18:50:05.905561",
     "status": "completed"
    },
    "tags": []
   },
   "outputs": [],
   "source": [
    "class StringMatcher():\n",
    "    \n",
    "    def __init__(self, dtf_left, dtf_right):\n",
    "        self.dtf_left = dtf_left\n",
    "        self.dtf_right = dtf_right\n",
    "    \n",
    "    \n",
    "    @staticmethod\n",
    "    def utils_string_matching(a, lst_b, threshold=None, top=None):\n",
    "        ## vectorizer (\"my house\" --> [\"my\", \"hi\", \"house\", \"sky\"] --> [1, 0, 1, 0])\n",
    "        vectorizer = feature_extraction.text.CountVectorizer()\n",
    "        X = vectorizer.fit_transform([a]+lst_b).toarray()\n",
    "\n",
    "        ## cosine similarity (scores a vs lst_b)\n",
    "        lst_vectors = [vec for vec in X]\n",
    "        cosine_sim = metrics.pairwise.cosine_similarity(lst_vectors)\n",
    "        scores = cosine_sim[0][1:]\n",
    "\n",
    "        ## match\n",
    "        match_scores = scores if threshold is None else scores[scores >= threshold]\n",
    "        match_idxs = range(len(match_scores)) if threshold is None else [i for i in np.where(scores >= threshold)[0]] \n",
    "        match_strings = [lst_b[i] for i in match_idxs]\n",
    "\n",
    "        ## dtf\n",
    "        dtf_match = pd.DataFrame(match_scores, columns=[a], index=match_strings)\n",
    "        dtf_match = dtf_match[~dtf_match.index.duplicated(keep='first')].sort_values(a, ascending=False).head(top)\n",
    "        return dtf_match\n",
    "    \n",
    "    \n",
    "    def vlookup(self, threshold=0.7, top=1):\n",
    "        ## process data\n",
    "        lst_left = list(set( self.dtf_left.iloc[:,0].tolist() ))\n",
    "        lst_right = list(set( self.dtf_right.iloc[:,0].tolist() ))\n",
    "        \n",
    "        ## match strings\n",
    "        dtf_matches = pd.DataFrame(columns=['string','match','similarity'])\n",
    "        for string in tqdm(lst_left):\n",
    "            dtf_match = self.utils_string_matching(string, lst_right, threshold, top)\n",
    "            dtf_match = dtf_match.reset_index().rename(columns={'index':'match', string:'similarity'})\n",
    "            dtf_match[\"string\"] = string\n",
    "            dtf_matches = dtf_matches.append(dtf_match, ignore_index=True, sort=False)\n",
    "        return dtf_matches[['string','match','similarity']]\n",
    "    \n",
    "    \n",
    "    @staticmethod\n",
    "    def write_excel(dtf):\n",
    "        bytes_file = io.BytesIO()\n",
    "        excel_writer = pd.ExcelWriter(bytes_file)\n",
    "        dtf.to_excel(excel_writer, sheet_name='Sheet1', na_rep='', index=False)\n",
    "        excel_writer.save()\n",
    "        bytes_file.seek(0)\n",
    "        return bytes_file"
   ]
  },
  {
   "cell_type": "code",
   "execution_count": 4,
   "id": "a04a6665",
   "metadata": {
    "execution": {
     "iopub.execute_input": "2022-10-18T18:50:05.936939Z",
     "iopub.status.busy": "2022-10-18T18:50:05.935967Z",
     "iopub.status.idle": "2022-10-18T18:50:19.425957Z",
     "shell.execute_reply": "2022-10-18T18:50:19.424905Z"
    },
    "papermill": {
     "duration": 13.497327,
     "end_time": "2022-10-18T18:50:19.428874",
     "exception": false,
     "start_time": "2022-10-18T18:50:05.931547",
     "status": "completed"
    },
    "tags": []
   },
   "outputs": [
    {
     "name": "stdout",
     "output_type": "stream",
     "text": [
      "Collecting openpyxl\r\n",
      "  Downloading openpyxl-3.0.10-py2.py3-none-any.whl (242 kB)\r\n",
      "\u001b[2K     \u001b[90m━━━━━━━━━━━━━━━━━━━━━━━━━━━━━━━━━━━━━━━\u001b[0m \u001b[32m242.1/242.1 kB\u001b[0m \u001b[31m4.0 MB/s\u001b[0m eta \u001b[36m0:00:00\u001b[0m\r\n",
      "\u001b[?25hCollecting et-xmlfile\r\n",
      "  Downloading et_xmlfile-1.1.0-py3-none-any.whl (4.7 kB)\r\n",
      "Installing collected packages: et-xmlfile, openpyxl\r\n",
      "Successfully installed et-xmlfile-1.1.0 openpyxl-3.0.10\r\n",
      "\u001b[33mWARNING: Running pip as the 'root' user can result in broken permissions and conflicting behaviour with the system package manager. It is recommended to use a virtual environment instead: https://pip.pypa.io/warnings/venv\u001b[0m\u001b[33m\r\n",
      "\u001b[0m"
     ]
    }
   ],
   "source": [
    "!pip install openpyxl"
   ]
  },
  {
   "cell_type": "code",
   "execution_count": 5,
   "id": "de7ce25c",
   "metadata": {
    "execution": {
     "iopub.execute_input": "2022-10-18T18:50:19.439189Z",
     "iopub.status.busy": "2022-10-18T18:50:19.438715Z",
     "iopub.status.idle": "2022-10-18T18:50:19.796519Z",
     "shell.execute_reply": "2022-10-18T18:50:19.795494Z"
    },
    "papermill": {
     "duration": 0.366059,
     "end_time": "2022-10-18T18:50:19.799042",
     "exception": false,
     "start_time": "2022-10-18T18:50:19.432983",
     "status": "completed"
    },
    "tags": []
   },
   "outputs": [],
   "source": [
    "dtf_left = pd.read_excel(\"../input/matching/1.xlsx\")\n",
    "dtf_right = pd.read_excel(\"../input/matching/2.xlsx\")"
   ]
  },
  {
   "cell_type": "code",
   "execution_count": 6,
   "id": "31d148d4",
   "metadata": {
    "execution": {
     "iopub.execute_input": "2022-10-18T18:50:19.808383Z",
     "iopub.status.busy": "2022-10-18T18:50:19.807987Z",
     "iopub.status.idle": "2022-10-18T18:50:19.812989Z",
     "shell.execute_reply": "2022-10-18T18:50:19.811792Z"
    },
    "papermill": {
     "duration": 0.01232,
     "end_time": "2022-10-18T18:50:19.815349",
     "exception": false,
     "start_time": "2022-10-18T18:50:19.803029",
     "status": "completed"
    },
    "tags": []
   },
   "outputs": [],
   "source": [
    "match_ = StringMatcher(dtf_left, dtf_right)"
   ]
  },
  {
   "cell_type": "code",
   "execution_count": 7,
   "id": "8b897480",
   "metadata": {
    "execution": {
     "iopub.execute_input": "2022-10-18T18:50:19.825243Z",
     "iopub.status.busy": "2022-10-18T18:50:19.824791Z",
     "iopub.status.idle": "2022-10-18T18:52:22.071381Z",
     "shell.execute_reply": "2022-10-18T18:52:22.070045Z"
    },
    "papermill": {
     "duration": 122.255902,
     "end_time": "2022-10-18T18:52:22.075466",
     "exception": false,
     "start_time": "2022-10-18T18:50:19.819564",
     "status": "completed"
    },
    "tags": []
   },
   "outputs": [
    {
     "name": "stderr",
     "output_type": "stream",
     "text": [
      "100%|██████████| 429/429 [02:02<00:00,  3.51it/s]\n"
     ]
    }
   ],
   "source": [
    "match_2 = match_.vlookup(threshold = 0.5, top = 3)"
   ]
  },
  {
   "cell_type": "code",
   "execution_count": 8,
   "id": "2365b5e7",
   "metadata": {
    "execution": {
     "iopub.execute_input": "2022-10-18T18:52:22.169225Z",
     "iopub.status.busy": "2022-10-18T18:52:22.168759Z",
     "iopub.status.idle": "2022-10-18T18:52:22.187945Z",
     "shell.execute_reply": "2022-10-18T18:52:22.186700Z"
    },
    "papermill": {
     "duration": 0.067035,
     "end_time": "2022-10-18T18:52:22.190477",
     "exception": false,
     "start_time": "2022-10-18T18:52:22.123442",
     "status": "completed"
    },
    "tags": []
   },
   "outputs": [
    {
     "data": {
      "text/html": [
       "<div>\n",
       "<style scoped>\n",
       "    .dataframe tbody tr th:only-of-type {\n",
       "        vertical-align: middle;\n",
       "    }\n",
       "\n",
       "    .dataframe tbody tr th {\n",
       "        vertical-align: top;\n",
       "    }\n",
       "\n",
       "    .dataframe thead th {\n",
       "        text-align: right;\n",
       "    }\n",
       "</style>\n",
       "<table border=\"1\" class=\"dataframe\">\n",
       "  <thead>\n",
       "    <tr style=\"text-align: right;\">\n",
       "      <th></th>\n",
       "      <th>string</th>\n",
       "      <th>match</th>\n",
       "      <th>similarity</th>\n",
       "    </tr>\n",
       "  </thead>\n",
       "  <tbody>\n",
       "    <tr>\n",
       "      <th>0</th>\n",
       "      <td>ASAD AYAZ SHAIKH</td>\n",
       "      <td>~Asad Shaikh</td>\n",
       "      <td>0.816497</td>\n",
       "    </tr>\n",
       "    <tr>\n",
       "      <th>1</th>\n",
       "      <td>OKSANA FJODOROVA</td>\n",
       "      <td>OKSANA FJODOROVA</td>\n",
       "      <td>1.000000</td>\n",
       "    </tr>\n",
       "    <tr>\n",
       "      <th>2</th>\n",
       "      <td>Piquois Gisèle</td>\n",
       "      <td>Piquois Gisèle</td>\n",
       "      <td>1.000000</td>\n",
       "    </tr>\n",
       "    <tr>\n",
       "      <th>3</th>\n",
       "      <td>YLKA FIGUEREDO DE OLVEIRA</td>\n",
       "      <td>Ylka Figueredo</td>\n",
       "      <td>0.707107</td>\n",
       "    </tr>\n",
       "    <tr>\n",
       "      <th>4</th>\n",
       "      <td>Lina Jalouk</td>\n",
       "      <td>Lina Jalouk</td>\n",
       "      <td>1.000000</td>\n",
       "    </tr>\n",
       "  </tbody>\n",
       "</table>\n",
       "</div>"
      ],
      "text/plain": [
       "                      string             match  similarity\n",
       "0           ASAD AYAZ SHAIKH      ~Asad Shaikh    0.816497\n",
       "1           OKSANA FJODOROVA  OKSANA FJODOROVA    1.000000\n",
       "2             Piquois Gisèle    Piquois Gisèle    1.000000\n",
       "3  YLKA FIGUEREDO DE OLVEIRA    Ylka Figueredo    0.707107\n",
       "4                Lina Jalouk       Lina Jalouk    1.000000"
      ]
     },
     "execution_count": 8,
     "metadata": {},
     "output_type": "execute_result"
    }
   ],
   "source": [
    "match_2.head()"
   ]
  },
  {
   "cell_type": "code",
   "execution_count": 9,
   "id": "924cb3fa",
   "metadata": {
    "execution": {
     "iopub.execute_input": "2022-10-18T18:52:22.251563Z",
     "iopub.status.busy": "2022-10-18T18:52:22.251118Z",
     "iopub.status.idle": "2022-10-18T18:52:22.329375Z",
     "shell.execute_reply": "2022-10-18T18:52:22.328250Z"
    },
    "papermill": {
     "duration": 0.111976,
     "end_time": "2022-10-18T18:52:22.332084",
     "exception": false,
     "start_time": "2022-10-18T18:52:22.220108",
     "status": "completed"
    },
    "tags": []
   },
   "outputs": [],
   "source": [
    "match_2.to_excel(\"matchPoint5.xlsx\")"
   ]
  },
  {
   "cell_type": "code",
   "execution_count": 10,
   "id": "35162510",
   "metadata": {
    "execution": {
     "iopub.execute_input": "2022-10-18T18:52:22.393251Z",
     "iopub.status.busy": "2022-10-18T18:52:22.392780Z",
     "iopub.status.idle": "2022-10-18T18:52:22.400082Z",
     "shell.execute_reply": "2022-10-18T18:52:22.398793Z"
    },
    "papermill": {
     "duration": 0.040863,
     "end_time": "2022-10-18T18:52:22.402579",
     "exception": false,
     "start_time": "2022-10-18T18:52:22.361716",
     "status": "completed"
    },
    "tags": []
   },
   "outputs": [
    {
     "data": {
      "text/plain": [
       "(392, 3)"
      ]
     },
     "execution_count": 10,
     "metadata": {},
     "output_type": "execute_result"
    }
   ],
   "source": [
    "match_2.shape"
   ]
  }
 ],
 "metadata": {
  "kernelspec": {
   "display_name": "Python 3",
   "language": "python",
   "name": "python3"
  },
  "language_info": {
   "codemirror_mode": {
    "name": "ipython",
    "version": 3
   },
   "file_extension": ".py",
   "mimetype": "text/x-python",
   "name": "python",
   "nbconvert_exporter": "python",
   "pygments_lexer": "ipython3",
   "version": "3.7.12"
  },
  "papermill": {
   "default_parameters": {},
   "duration": 148.162251,
   "end_time": "2022-10-18T18:52:23.255306",
   "environment_variables": {},
   "exception": null,
   "input_path": "__notebook__.ipynb",
   "output_path": "__notebook__.ipynb",
   "parameters": {},
   "start_time": "2022-10-18T18:49:55.093055",
   "version": "2.3.4"
  }
 },
 "nbformat": 4,
 "nbformat_minor": 5
}
